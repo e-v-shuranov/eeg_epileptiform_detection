{
 "cells": [
  {
   "cell_type": "code",
   "id": "9b4cd8f0-ef98-4fbb-a1b2-d589c0163494",
   "metadata": {
    "scrolled": true,
    "ExecuteTime": {
     "end_time": "2025-01-13T04:53:12.073995Z",
     "start_time": "2025-01-13T04:53:10.982170Z"
    }
   },
   "source": [
    "import os\n",
    "import pywt\n",
    "import torch\n",
    "import pickle\n",
    "import numpy as np\n",
    "from scipy.signal import resample"
   ],
   "outputs": [],
   "execution_count": 1
  },
  {
   "cell_type": "markdown",
   "id": "d4c9908f-1a70-463c-8ab6-ddd6dc1f432a",
   "metadata": {},
   "source": [
    "### Checking the path to the directories"
   ]
  },
  {
   "cell_type": "code",
   "id": "e542657c-d8de-41d3-83f3-c0aaa41db932",
   "metadata": {
    "ExecuteTime": {
     "end_time": "2025-01-13T04:53:12.253461Z",
     "start_time": "2025-01-13T04:53:12.204352Z"
    }
   },
   "source": [
    "train_out_dir = '/Volumes/PHILIPS/train_files_TUEV'\n",
    "eval_out_dir = '/Volumes/PHILIPS/test_files_TUEV'\n",
    "\n",
    "data_path = \"/media/public/Datasets/TUEV/tuev/edf/processed_banana_half\"\n",
    "\n",
    "train_files = os.listdir(data_path + '/processed_train_banana')\n",
    "val_files = os.listdir(data_path + '/processed_eval_banana')\n",
    "test_files = os.listdir(data_path + '/processed_test_banana')\n",
    "\n",
    "print(f'length of train files: {len(train_files)}')\n",
    "print(f'length of eval files: {len(val_files)}')\n",
    "print(f'length of test files: {len(test_files)}')"
   ],
   "outputs": [
    {
     "name": "stdout",
     "output_type": "stream",
     "text": [
      "length of train files: 65290\n",
      "length of eval files: 18642\n",
      "length of test files: 28305\n"
     ]
    }
   ],
   "execution_count": 2
  },
  {
   "cell_type": "markdown",
   "id": "25c6fb5c-0747-4093-9dc9-afc6db08d185",
   "metadata": {},
   "source": [
    "### Wavelet tranformation for a single file"
   ]
  },
  {
   "cell_type": "code",
   "id": "c9a1ca1f-c78e-4987-82eb-c5dd5050451a",
   "metadata": {
    "ExecuteTime": {
     "end_time": "2025-01-13T04:53:12.659952Z",
     "start_time": "2025-01-13T04:53:12.657215Z"
    }
   },
   "source": [
    "test_file = data_path + '/processed_train_banana/aaaaablw_00000001-0.pkl' # path to a pickle file\n",
    "sample = pickle.load(open(os.path.join(test_file), \"rb\"))\n",
    "\n",
    "X = sample[\"signal\"]\n",
    "coeffs = pywt.dwt(X, 'haar')  # Perform discrete Haar wavelet transform\n",
    "X = coeffs[0]\n",
    "\n",
    "Y = int(sample[\"label\"][0] - 1)"
   ],
   "outputs": [],
   "execution_count": 3
  },
  {
   "cell_type": "code",
   "id": "88564ef0-fc3e-4043-b8af-f53c76844da6",
   "metadata": {
    "ExecuteTime": {
     "end_time": "2025-01-13T04:53:12.778677Z",
     "start_time": "2025-01-13T04:53:12.770121Z"
    }
   },
   "source": [
    "print(X.shape)\n",
    "print(type(X))"
   ],
   "outputs": [
    {
     "name": "stdout",
     "output_type": "stream",
     "text": [
      "(8, 500)\n",
      "<class 'numpy.ndarray'>\n"
     ]
    }
   ],
   "execution_count": 4
  },
  {
   "cell_type": "code",
   "id": "802cd0b7-7fda-40d9-b92b-52e6f8d6e28e",
   "metadata": {
    "ExecuteTime": {
     "end_time": "2025-01-13T04:53:12.916804Z",
     "start_time": "2025-01-13T04:53:12.895853Z"
    }
   },
   "source": [
    "class TUEVLoader(torch.utils.data.Dataset):\n",
    "    def __init__(self, root, files, sampling_rate=200):\n",
    "        self.root = root\n",
    "        self.files = files\n",
    "        self.default_rate = 200\n",
    "        self.sampling_rate = sampling_rate\n",
    "\n",
    "    def __len__(self):\n",
    "        return len(self.files)\n",
    "\n",
    "    def __getitem__(self, index):\n",
    "        sample = pickle.load(open(os.path.join(self.root, self.files[index]), \"rb\"))\n",
    "        X = sample[\"signal\"]\n",
    "        if self.sampling_rate != self.default_rate:\n",
    "            X = resample(X, 5 * self.sampling_rate, axis=-1)\n",
    "\n",
    "        # coefficients = pywt.dwt(X, 'haar')  # Perform discrete Haar wavelet transform\n",
    "        coefficients = pywt.wavedec(X, wavelet='haar', level=4)\n",
    "        X = coefficients[0]\n",
    "        Y = int(sample[\"label\"][0] - 1)\n",
    "        \n",
    "        return X, Y\n",
    "\n",
    "def prepare_TUEV_dataset():\n",
    "    # set random seed\n",
    "    seed = 4523\n",
    "    np.random.seed(seed)\n",
    "\n",
    "    # path to train, val, test files. Might need to be changed depending on your file organisation\n",
    "    # train_files = os.listdir(\"/Volumes/PHILIPS/train_files_TUEV/train_files\")\n",
    "    # val_files = os.listdir(\"/Volumes/PHILIPS/train_files_TUEV/eval_files\")\n",
    "    # test_files = os.listdir(\"/Volumes/PHILIPS/test_files_TUEV/test_files\")\n",
    "    data_path = \"/media/public/Datasets/TUEV/tuev/edf/processed_banana_half\"\n",
    "    \n",
    "    train_files = os.listdir(data_path + '/processed_train_banana')\n",
    "    val_files = os.listdir(data_path + '/processed_eval_banana')\n",
    "    test_files = os.listdir(data_path + '/processed_test_banana')\n",
    "\n",
    "    # prepare training and test data loader\n",
    "    train_dataset = TUEVLoader(\n",
    "        os.path.join(data_path + '/processed_train_banana'), train_files\n",
    "    )\n",
    "    test_dataset = TUEVLoader(\n",
    "        os.path.join(data_path + '/processed_test_banana'), test_files\n",
    "    )\n",
    "    val_dataset = TUEVLoader(\n",
    "        os.path.join(data_path + '/processed_eval_banana'), val_files\n",
    "    )\n",
    "    print(len(train_files),  len(test_files), len(val_files))\n",
    "    return train_dataset, test_dataset, val_dataset"
   ],
   "outputs": [],
   "execution_count": 5
  },
  {
   "cell_type": "code",
   "id": "62539c41-bee4-4124-be27-3cae951c56d8",
   "metadata": {
    "ExecuteTime": {
     "end_time": "2025-01-13T04:53:13.049793Z",
     "start_time": "2025-01-13T04:53:13.035288Z"
    }
   },
   "source": [
    "def get_TUEV_dataset():\n",
    "    train_dataset, test_dataset, val_dataset = prepare_TUEV_dataset()\n",
    "    ch_names = ['EEG FP1-REF', 'EEG FP2-REF', 'EEG F3-REF', 'EEG F4-REF', 'EEG C3-REF', 'EEG C4-REF', 'EEG P3-REF', 'EEG P4-REF', 'EEG O1-REF', 'EEG O2-REF', 'EEG F7-REF', \\\n",
    "                'EEG F8-REF', 'EEG T3-REF', 'EEG T4-REF', 'EEG T5-REF', 'EEG T6-REF', 'EEG A1-REF', 'EEG A2-REF', 'EEG FZ-REF', 'EEG CZ-REF', 'EEG PZ-REF', 'EEG T1-REF', 'EEG T2-REF']\n",
    "    ch_names_after_convert = ['FP1-F7', 'F7-T3', 'T3-T5', 'T5-O1',\n",
    "                              'FP2-F8', 'F8-T4', 'T4-T6', 'T6-O2',\n",
    "                              'FP1-F3', 'F3-C3', 'C3-P3', 'P3-O1',\n",
    "                              'FP2-F4', 'F4-C4', 'C4-P4', 'P4-O2']\n",
    "\n",
    "    new_ch_names = [\"FP1-F7\", \"F7-T7\", \"T7-P7\", \"P7-O1\",\n",
    "                    \"FP2-F8\", \"F8-T8\", \"T8-P8\", \"P8-O2\",\n",
    "                    \"FP1-F3\", \"F3-C3\", \"C3-P3\", \"P3-O1\",\n",
    "                    \"FP2-F4\", \"F4-C4\", \"C4-P4\", \"P4-O2\"]\n",
    "\n",
    "    new_ch_names_to_128 = [\"FP1-F7\", \"F7-T7\", \"T7-P7\", \"P7-O1\",\n",
    "                    \"FP2-F8\", \"F8-T8\", \"T8-P8\", \"P8-O2\"]\n",
    "\n",
    "\n",
    "    ch_names = [name.split(' ')[-1].split('-')[0] for name in ch_names_after_convert]\n",
    "    # args.nb_classes = 6\n",
    "    metrics = [\"accuracy\", \"balanced_accuracy\", \"cohen_kappa\"]\n",
    "    return train_dataset, test_dataset, val_dataset, new_ch_names_to_128, metrics"
   ],
   "outputs": [],
   "execution_count": 6
  },
  {
   "cell_type": "code",
   "id": "96fba64b-7c15-4c93-9af6-348cd3331383",
   "metadata": {
    "ExecuteTime": {
     "end_time": "2025-01-13T04:53:13.283844Z",
     "start_time": "2025-01-13T04:53:13.201820Z"
    }
   },
   "source": [
    "dataset_train, dataset_test, dataset_val, ch_names, metrics = get_TUEV_dataset()"
   ],
   "outputs": [
    {
     "name": "stdout",
     "output_type": "stream",
     "text": [
      "65290 28305 18642\n"
     ]
    }
   ],
   "execution_count": 7
  },
  {
   "metadata": {
    "ExecuteTime": {
     "end_time": "2025-01-13T04:53:20.659777Z",
     "start_time": "2025-01-13T04:53:13.397853Z"
    }
   },
   "cell_type": "code",
   "source": [
    "X_list, y_list = [], []\n",
    "for X_batch, y_batch in dataset_train:\n",
    "    X_list.append(X_batch)\n",
    "    y_list.append(y_batch)"
   ],
   "id": "539a8a40cc23ebd9",
   "outputs": [],
   "execution_count": 8
  },
  {
   "metadata": {
    "ExecuteTime": {
     "end_time": "2025-01-13T04:53:25.912762Z",
     "start_time": "2025-01-13T04:53:20.780773Z"
    }
   },
   "cell_type": "code",
   "source": [
    "X_list_test, y_list_test = [], []\n",
    "for X_batch, y_batch in dataset_test:\n",
    "    X_list_test.append(X_batch)\n",
    "    y_list_test.append(y_batch)\n",
    "    \n",
    "X_list_eval, y_list_eval = [], []\n",
    "for X_batch, y_batch in dataset_val:\n",
    "    X_list_eval.append(X_batch)\n",
    "    y_list_eval.append(y_batch)    \n",
    "    # X_list.append(X_batch)\n",
    "    # y_list.append(y_batch)"
   ],
   "id": "bfa202a063539349",
   "outputs": [],
   "execution_count": 9
  },
  {
   "metadata": {
    "ExecuteTime": {
     "end_time": "2025-01-13T04:53:26.041002Z",
     "start_time": "2025-01-13T04:53:26.031800Z"
    }
   },
   "cell_type": "code",
   "source": [
    "print(len(X_list))\n",
    "print(len(X_list[0]))\n",
    "print(len(X_list_test))\n",
    "print(len(X_list_test[0]))\n",
    "# print(len(X_list_eval))\n",
    "# print(len(X_list_eval[0]))"
   ],
   "id": "2615eaa63cb5f418",
   "outputs": [
    {
     "name": "stdout",
     "output_type": "stream",
     "text": [
      "65290\n",
      "8\n",
      "28305\n",
      "8\n"
     ]
    }
   ],
   "execution_count": 10
  },
  {
   "metadata": {
    "ExecuteTime": {
     "end_time": "2025-01-13T04:53:26.265268Z",
     "start_time": "2025-01-13T04:53:26.160784Z"
    }
   },
   "cell_type": "code",
   "source": [
    "tmp = np.array(X_list)\n",
    "print(tmp.shape)\n",
    "# X = tmp.reshape(65290, 4000)\n",
    "# X = tmp.reshape(65290 , 4000)\n",
    "X = tmp.reshape(65290 , 504)\n",
    "print(X.shape)\n",
    "y_list = np.array(y_list)\n",
    "print(y_list.shape)"
   ],
   "id": "6c6805a7a3718610",
   "outputs": [
    {
     "name": "stdout",
     "output_type": "stream",
     "text": [
      "(65290, 8, 63)\n",
      "(65290, 504)\n",
      "(65290,)\n"
     ]
    }
   ],
   "execution_count": 11
  },
  {
   "metadata": {
    "ExecuteTime": {
     "end_time": "2025-01-13T04:53:26.455757Z",
     "start_time": "2025-01-13T04:53:26.386447Z"
    }
   },
   "cell_type": "code",
   "source": [
    "tmp = np.array(X_list_test)\n",
    "print(tmp.shape)\n",
    "# X_test = tmp.reshape(28305, 4000)\n",
    "X_test = tmp.reshape(28305, 504)\n",
    "print(X_test.shape)\n",
    "y_list_test = np.array(y_list_test)\n",
    "print(y_list_test.shape)"
   ],
   "id": "46350121a62834fe",
   "outputs": [
    {
     "name": "stdout",
     "output_type": "stream",
     "text": [
      "(28305, 8, 63)\n",
      "(28305, 504)\n",
      "(28305,)\n"
     ]
    }
   ],
   "execution_count": 12
  },
  {
   "metadata": {
    "ExecuteTime": {
     "end_time": "2025-01-13T04:53:26.612054Z",
     "start_time": "2025-01-13T04:53:26.605685Z"
    }
   },
   "cell_type": "code",
   "source": [
    "# tmp = np.array(X_list_eval)\n",
    "# X_eval = tmp.reshape(18642, 4000)\n",
    "# print(X_eval.shape)\n",
    "# y_list_eval = np.array(y_list_eval)\n",
    "# print(y_list_eval.shape)"
   ],
   "id": "d1eb75a2bdd775a1",
   "outputs": [],
   "execution_count": 13
  },
  {
   "metadata": {
    "ExecuteTime": {
     "end_time": "2025-01-13T04:53:27.162120Z",
     "start_time": "2025-01-13T04:53:26.767704Z"
    }
   },
   "cell_type": "code",
   "source": [
    "data_path = \"/media/public/Datasets/TUEV/tuev/edf/wavelet_preprocess_half_banana/\"\n",
    "np.save(data_path + \"X_train_values_DWT.npy\", X)\n",
    "np.save(data_path + \"y_train_values_DWT.npy\", y_list)\n",
    "\n",
    "np.save(data_path + \"/X_test_values_DWT.npy\", X_test)\n",
    "np.save(data_path + \"/y_test_values_DWT.npy\", y_list_test)\n",
    "\n",
    "# np.save(data_path + \"/X_val_values_DWT.npy\", X_eval)\n",
    "# np.save(data_path + \"/y_val_values_DWT.npy\", y_list_eval)"
   ],
   "id": "f7be328f875af9fd",
   "outputs": [],
   "execution_count": 14
  },
  {
   "cell_type": "markdown",
   "id": "94087643-bec0-45bb-9e18-2a032297b102",
   "metadata": {},
   "source": [
    "### XGBoost"
   ]
  },
  {
   "cell_type": "code",
   "id": "ee75d086-ba7d-4f09-9675-161d67fb109f",
   "metadata": {
    "ExecuteTime": {
     "end_time": "2025-01-13T04:53:27.458053Z",
     "start_time": "2025-01-13T04:53:27.272804Z"
    }
   },
   "source": [
    "import pickle\n",
    "import numpy as np\n",
    "from sklearn.ensemble import GradientBoostingClassifier"
   ],
   "outputs": [],
   "execution_count": 15
  },
  {
   "cell_type": "code",
   "id": "820146e1-07c1-492a-81aa-bd0f42efc62c",
   "metadata": {
    "ExecuteTime": {
     "end_time": "2025-01-13T04:53:27.640538Z",
     "start_time": "2025-01-13T04:53:27.570530Z"
    }
   },
   "source": [
    "data_path = \"/media/public/Datasets/TUEV/tuev/edf/wavelet_preprocess_half_banana/\"\n",
    "\n",
    "X_train = np.load(data_path + \"X_train_values_DWT.npy\")\n",
    "y_train = np.load(data_path + \"y_train_values_DWT.npy\")\n",
    "\n",
    "X_test = np.load(data_path + \"X_test_values_DWT.npy\")\n",
    "y_test = np.load(data_path + \"y_test_values_DWT.npy\")\n",
    "\n",
    "# X_eval = np.load(data_path + \"X_val_values_DWT.npy\")\n",
    "# y_eval = np.load(data_path + \"y_val_values_DWT.npy\")"
   ],
   "outputs": [],
   "execution_count": 16
  },
  {
   "cell_type": "code",
   "id": "c3038f92-ab43-451f-ace9-88572db3b928",
   "metadata": {
    "ExecuteTime": {
     "end_time": "2025-01-13T05:33:02.079296Z",
     "start_time": "2025-01-13T04:53:27.754507Z"
    }
   },
   "source": [
    "xgb_clf = GradientBoostingClassifier()\n",
    "xgb_clf.fit(X_train, y_train)\n",
    "\n",
    "with open(\"xgb_model_wav4.pkl\", \"wb\") as file:\n",
    "    pickle.dump(xgb_clf, file)"
   ],
   "outputs": [],
   "execution_count": 17
  },
  {
   "cell_type": "markdown",
   "id": "4bb58af1-7f5d-4ce5-b752-92d704017b00",
   "metadata": {},
   "source": [
    "### Test metrics\n"
   ]
  },
  {
   "cell_type": "code",
   "id": "329db603-b38c-48df-9145-145d73785249",
   "metadata": {
    "ExecuteTime": {
     "end_time": "2025-01-13T05:33:02.600086Z",
     "start_time": "2025-01-13T05:33:02.225873Z"
    }
   },
   "source": [
    "from sklearn.metrics import hamming_loss, accuracy_score, classification_report\n",
    "from sklearn.metrics import precision_recall_fscore_support\n",
    "\n",
    "y_pred = xgb_clf.predict(X_test)\n",
    "\n",
    "# Hamming Loss\n",
    "print(\"Hamming Loss:\", hamming_loss(y_test, y_pred))\n",
    "\n",
    "# Accuracy\n",
    "accuracy = accuracy_score(y_test, y_pred)\n",
    "print(\"Accuracy:\", accuracy)\n",
    "\n",
    "# Classification Report\n",
    "# report = classification_report(y_test, y_pred, target_names=[f\"Class {i}\" for i in range(y_test.shape[1])])\n",
    "# print(\"Classification Report:\\n\", report)\n",
    "\n",
    "# Precision, Recall, F1\n",
    "precision, recall, f1, _ = precision_recall_fscore_support(y_test, y_pred, average='macro')\n",
    "print(f\"Precision: {precision}, Recall: {recall}, F1-Score: {f1}\")\n"
   ],
   "outputs": [
    {
     "name": "stdout",
     "output_type": "stream",
     "text": [
      "Hamming Loss: 0.2994877230171348\n",
      "Accuracy: 0.7005122769828652\n",
      "Precision: 0.4220765408392311, Recall: 0.343972428199216, F1-Score: 0.35642950983357885\n"
     ]
    }
   ],
   "execution_count": 18
  },
  {
   "cell_type": "code",
   "id": "94ac7980-3540-4d98-a300-a0a1621abc4b",
   "metadata": {
    "ExecuteTime": {
     "end_time": "2025-01-13T05:33:02.796127Z",
     "start_time": "2025-01-13T05:33:02.726356Z"
    }
   },
   "source": [
    "# Classification Report\n",
    "report = classification_report(y_test, y_pred, target_names=['spsw', 'gped', 'pled', 'eyem', 'artf', 'backg'])\n",
    "print(\"Classification Report:\\n\", report)"
   ],
   "outputs": [
    {
     "name": "stdout",
     "output_type": "stream",
     "text": [
      "Classification Report:\n",
      "               precision    recall  f1-score   support\n",
      "\n",
      "        spsw       0.32      0.09      0.14       567\n",
      "        gped       0.54      0.22      0.31      3561\n",
      "        pled       0.31      0.19      0.24      1998\n",
      "        eyem       0.43      0.52      0.47       329\n",
      "        artf       0.16      0.11      0.13      2204\n",
      "       backg       0.77      0.93      0.84     19646\n",
      "\n",
      "    accuracy                           0.70     28305\n",
      "   macro avg       0.42      0.34      0.36     28305\n",
      "weighted avg       0.65      0.70      0.66     28305\n",
      "\n"
     ]
    }
   ],
   "execution_count": 19
  },
  {
   "cell_type": "markdown",
   "id": "d00ed598-d3a5-4272-9603-0063380b2207",
   "metadata": {},
   "source": [
    "### Train metrics"
   ]
  },
  {
   "cell_type": "code",
   "id": "65d05b4a-f57a-4c8e-9bce-99602782b538",
   "metadata": {
    "ExecuteTime": {
     "end_time": "2025-01-13T05:33:03.864138Z",
     "start_time": "2025-01-13T05:33:02.948669Z"
    }
   },
   "source": [
    "train_predict = xgb_clf.predict(X_train)\n",
    "train_report = classification_report(y_train, train_predict, target_names=['spsw', 'gped', 'pled', 'eyem', 'artf', 'backg'])\n",
    "print(\"Classification Report:\\n\", train_report)"
   ],
   "outputs": [
    {
     "name": "stdout",
     "output_type": "stream",
     "text": [
      "Classification Report:\n",
      "               precision    recall  f1-score   support\n",
      "\n",
      "        spsw       0.97      0.89      0.93       484\n",
      "        gped       0.92      0.81      0.86      6169\n",
      "        pled       0.98      0.68      0.80      4738\n",
      "        eyem       0.92      0.82      0.87       862\n",
      "        artf       0.98      0.72      0.83      9227\n",
      "       backg       0.90      1.00      0.95     43810\n",
      "\n",
      "    accuracy                           0.92     65290\n",
      "   macro avg       0.95      0.82      0.87     65290\n",
      "weighted avg       0.92      0.92      0.91     65290\n",
      "\n"
     ]
    }
   ],
   "execution_count": 20
  },
  {
   "cell_type": "markdown",
   "id": "6bd6958b-8093-4d82-b18c-8ed6f98b4db7",
   "metadata": {},
   "source": [
    "### Eval metrics"
   ]
  },
  {
   "cell_type": "code",
   "id": "caf017de-af7e-40e1-ada8-5345c0d37b3f",
   "metadata": {
    "ExecuteTime": {
     "end_time": "2025-01-13T05:33:04.008941Z",
     "start_time": "2025-01-13T05:33:04.002213Z"
    }
   },
   "source": [
    "# eval_predict = xgb_clf.predict(X_eval)\n",
    "# eval_report = classification_report(y_eval, eval_predict, target_names=['spsw', 'gped', 'pled', 'eyem', 'artf', 'backg'])\n",
    "# print(\"Classification Report:\\n\", eval_report)"
   ],
   "outputs": [],
   "execution_count": 21
  },
  {
   "cell_type": "markdown",
   "id": "d64e6373-7e04-4f26-81ac-0a81364c16b5",
   "metadata": {},
   "source": [
    "### Binary classification "
   ]
  },
  {
   "cell_type": "code",
   "id": "5941031e-e648-4c43-ac1d-948a3259ac9b",
   "metadata": {
    "ExecuteTime": {
     "end_time": "2025-01-13T05:33:04.213039Z",
     "start_time": "2025-01-13T05:33:04.191048Z"
    }
   },
   "source": [
    "from sklearn.metrics import balanced_accuracy_score\n",
    "\n",
    "group_1 = {1, 2, 3}  # Group 1 (mapped to 0)\n",
    "group_2 = {4, 5, 6}  # Group 2 (mapped to 1)\n",
    "\n",
    "true_labels = [0 if cls in group_1 else 1 for cls in y_test]\n",
    "predicted_labels = [0 if cls in group_1 else 1 for cls in y_pred]\n",
    "\n",
    "balanced_acc = balanced_accuracy_score(true_labels, predicted_labels)\n",
    "print(\"Balanced Accuracy:\", balanced_acc)"
   ],
   "outputs": [
    {
     "name": "stdout",
     "output_type": "stream",
     "text": [
      "Balanced Accuracy: 0.6775075948947422\n"
     ]
    }
   ],
   "execution_count": 22
  },
  {
   "cell_type": "code",
   "id": "f5452dcc-21fa-4063-a019-477edf011f78",
   "metadata": {
    "ExecuteTime": {
     "end_time": "2025-01-13T05:33:04.480924Z",
     "start_time": "2025-01-13T05:33:04.475249Z"
    }
   },
   "source": [],
   "outputs": [],
   "execution_count": null
  }
 ],
 "metadata": {
  "kernelspec": {
   "display_name": "Python 3 (ipykernel)",
   "language": "python",
   "name": "python3"
  },
  "language_info": {
   "codemirror_mode": {
    "name": "ipython",
    "version": 3
   },
   "file_extension": ".py",
   "mimetype": "text/x-python",
   "name": "python",
   "nbconvert_exporter": "python",
   "pygments_lexer": "ipython3",
   "version": "3.9.7"
  }
 },
 "nbformat": 4,
 "nbformat_minor": 5
}
