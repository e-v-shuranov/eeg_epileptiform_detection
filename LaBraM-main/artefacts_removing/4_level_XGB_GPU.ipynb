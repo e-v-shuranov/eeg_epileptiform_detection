{
 "cells": [
  {
   "cell_type": "code",
   "execution_count": 1,
   "id": "ba415c50-2987-40c7-9459-1df0b4762908",
   "metadata": {},
   "outputs": [
    {
     "name": "stdout",
     "output_type": "stream",
     "text": [
      "2.1.4\n"
     ]
    }
   ],
   "source": [
    "import xgboost as xgb\n",
    "print(xgb.__version__)"
   ]
  },
  {
   "cell_type": "code",
   "execution_count": 1,
   "id": "ec1c7a55-131e-4e87-afc5-84aae3c3cd4c",
   "metadata": {},
   "outputs": [],
   "source": [
    "import pickle\n",
    "import numpy as np\n",
    "from xgboost import XGBClassifier\n",
    "\n",
    "X_train = np.load('X_train_values_DWT_2025_4_level.npy')\n",
    "y_train = np.load('y_train_values_DWT_2025_4_level.npy')"
   ]
  },
  {
   "cell_type": "code",
   "execution_count": 2,
   "id": "0c692dcb-dff4-4d2a-a4c6-4bc0b1080abb",
   "metadata": {},
   "outputs": [],
   "source": [
    "model = XGBClassifier(\n",
    "    tree_method=\"hist\",\n",
    "    device=\"cuda\"\n",
    ")"
   ]
  },
  {
   "cell_type": "code",
   "execution_count": 3,
   "id": "ea1d6f8e-bb6a-4f3b-99c9-55be5231e2e0",
   "metadata": {},
   "outputs": [],
   "source": [
    "X_test = np.load('X_test_values_DWT_2025_4_level.npy')\n",
    "y_test = np.load('y_test_values_DWT_2025_4_level.npy')"
   ]
  },
  {
   "cell_type": "code",
   "execution_count": 4,
   "id": "cd9b943a-70f5-46fa-825e-eecd7b54e55b",
   "metadata": {},
   "outputs": [],
   "source": [
    "X_eval = np.load('X_val_values_DWT_2025_4_level.npy')\n",
    "y_eval = np.load('y_val_values_DWT_2025_4_level.npy')"
   ]
  },
  {
   "cell_type": "code",
   "execution_count": 5,
   "id": "7b357511-e301-43b1-8ddf-5d9706fb3e27",
   "metadata": {},
   "outputs": [
    {
     "data": {
      "text/plain": [
       "(66873, 126)"
      ]
     },
     "execution_count": 5,
     "metadata": {},
     "output_type": "execute_result"
    }
   ],
   "source": [
    "X_train.shape"
   ]
  },
  {
   "cell_type": "code",
   "execution_count": 6,
   "id": "3e38d370-41f7-4d31-a9a9-fea414fd5da0",
   "metadata": {},
   "outputs": [],
   "source": [
    "import gc\n",
    "import optuna\n",
    "import xgboost as xgb\n",
    "from sklearn.model_selection import cross_val_score\n",
    "from sklearn.datasets import load_breast_cancer\n",
    "from sklearn.metrics import roc_curve, auc, confusion_matrix, hamming_loss, accuracy_score, classification_report, precision_recall_fscore_support, balanced_accuracy_score\n",
    "\n",
    "# Define the objective function\n",
    "group_1 = {1, 2, 3}  # Group 1 (mapped to 0)\n",
    "group_2 = {4, 5, 6}  # Group 2 (mapped to 1)\n",
    "\n",
    "true_labels = [0 if cls in group_1 else 1 for cls in y_test]\n",
    "\n",
    "def objective(trial):\n",
    "    # Suggest values for hyperparameters\n",
    "    params = {\n",
    "        \"n_estimators\": trial.suggest_int(\"n_estimators\", 50, 500),\n",
    "        \"max_depth\": trial.suggest_int(\"max_depth\", 3, 10),\n",
    "        \"learning_rate\": trial.suggest_float(\"learning_rate\", 0.01, 0.3, log=True),\n",
    "        \"subsample\": trial.suggest_float(\"subsample\", 0.5, 1.0),\n",
    "        \"colsample_bytree\": trial.suggest_float(\"colsample_bytree\", 0.5, 1.0),\n",
    "        \"gamma\": trial.suggest_float(\"gamma\", 0, 5),\n",
    "        \"lambda\": trial.suggest_float(\"lambda\", 0, 5),\n",
    "        \"alpha\": trial.suggest_float(\"alpha\", 0, 5),\n",
    "        \"device\": \"cuda\",\n",
    "    }\n",
    "\n",
    "    # Train XGBoost model\n",
    "    model = xgb.XGBClassifier(**params, eval_metric=\"logloss\")\n",
    "    model.fit(X_train, y_train)\n",
    "\n",
    "    # Evaluate on test data\n",
    "    y_pred = model.predict(X_test)\n",
    "    predicted_labels = [0 if cls in group_1 else 1 for cls in y_pred]\n",
    "    \n",
    "    balanced_accuracy = balanced_accuracy_score(true_labels, predicted_labels)\n",
    "\n",
    "    del model, y_pred\n",
    "    gc.collect()\n",
    "\n",
    "    return balanced_accuracy"
   ]
  },
  {
   "cell_type": "code",
   "execution_count": 11,
   "id": "288abee0-5fc8-4f8e-873c-ac7be55f2e2c",
   "metadata": {},
   "outputs": [
    {
     "name": "stderr",
     "output_type": "stream",
     "text": [
      "[I 2025-03-26 18:54:41,506] A new study created in memory with name: no-name-fc3d6919-a9f5-4672-b829-5aa73f21c22e\n",
      "[I 2025-03-26 18:54:44,705] Trial 0 finished with value: 0.7122790770991445 and parameters: {'n_estimators': 256, 'max_depth': 5, 'learning_rate': 0.14257815982172312, 'subsample': 0.7965543186283437, 'colsample_bytree': 0.7588907297134788, 'gamma': 1.1942617957541972, 'lambda': 4.047567528341189, 'alpha': 4.404118903930209}. Best is trial 0 with value: 0.7122790770991445.\n",
      "[I 2025-03-26 18:54:50,401] Trial 1 finished with value: 0.6725858271745434 and parameters: {'n_estimators': 415, 'max_depth': 5, 'learning_rate': 0.020558665282941244, 'subsample': 0.6546191962127821, 'colsample_bytree': 0.8516772603437668, 'gamma': 4.973892415830808, 'lambda': 2.9164379033499754, 'alpha': 1.458099095639724}. Best is trial 0 with value: 0.7122790770991445.\n",
      "[I 2025-03-26 18:54:53,469] Trial 2 finished with value: 0.6985268255870448 and parameters: {'n_estimators': 277, 'max_depth': 5, 'learning_rate': 0.07310952850399959, 'subsample': 0.980561548916009, 'colsample_bytree': 0.8296149128378887, 'gamma': 4.032995239915388, 'lambda': 4.877681826048287, 'alpha': 4.527689741008378}. Best is trial 0 with value: 0.7122790770991445.\n",
      "[I 2025-03-26 18:55:05,842] Trial 3 finished with value: 0.7001784420693922 and parameters: {'n_estimators': 443, 'max_depth': 9, 'learning_rate': 0.030407270511932868, 'subsample': 0.5829588572747705, 'colsample_bytree': 0.7689099394589006, 'gamma': 1.705162439486914, 'lambda': 2.875909967098335, 'alpha': 3.6989969123321313}. Best is trial 0 with value: 0.7122790770991445.\n",
      "[I 2025-03-26 18:55:10,907] Trial 4 finished with value: 0.6988264779216957 and parameters: {'n_estimators': 401, 'max_depth': 9, 'learning_rate': 0.14079550101060676, 'subsample': 0.8018043580185512, 'colsample_bytree': 0.5437903535222202, 'gamma': 1.228231980326702, 'lambda': 1.6452637249269086, 'alpha': 3.0341651221546044}. Best is trial 0 with value: 0.7122790770991445.\n",
      "[I 2025-03-26 18:55:13,586] Trial 5 finished with value: 0.6908298938136042 and parameters: {'n_estimators': 389, 'max_depth': 5, 'learning_rate': 0.1396019544271437, 'subsample': 0.8707497508859213, 'colsample_bytree': 0.5588454794054832, 'gamma': 4.312116670442277, 'lambda': 0.6827324563225395, 'alpha': 0.13663179924105928}. Best is trial 0 with value: 0.7122790770991445.\n",
      "[I 2025-03-26 18:55:18,030] Trial 6 finished with value: 0.6917696224454073 and parameters: {'n_estimators': 227, 'max_depth': 6, 'learning_rate': 0.048656069973727074, 'subsample': 0.6786156762772597, 'colsample_bytree': 0.5516493096708736, 'gamma': 0.025043459765303755, 'lambda': 0.9303983647346203, 'alpha': 4.6882996046676775}. Best is trial 0 with value: 0.7122790770991445.\n",
      "[I 2025-03-26 18:55:26,342] Trial 7 finished with value: 0.7121807069763146 and parameters: {'n_estimators': 472, 'max_depth': 6, 'learning_rate': 0.03818275782722076, 'subsample': 0.5212967141762878, 'colsample_bytree': 0.8036803297442037, 'gamma': 1.6187980514609586, 'lambda': 3.526883777846745, 'alpha': 2.0351809049042737}. Best is trial 0 with value: 0.7122790770991445.\n",
      "[I 2025-03-26 18:55:29,616] Trial 8 finished with value: 0.6852239143102284 and parameters: {'n_estimators': 285, 'max_depth': 8, 'learning_rate': 0.11360767218442137, 'subsample': 0.9450036492738344, 'colsample_bytree': 0.8581220744452069, 'gamma': 3.725100194690528, 'lambda': 0.9536608239575944, 'alpha': 4.42568697933135}. Best is trial 0 with value: 0.7122790770991445.\n",
      "[I 2025-03-26 18:55:31,577] Trial 9 finished with value: 0.5862677793541781 and parameters: {'n_estimators': 247, 'max_depth': 3, 'learning_rate': 0.02046577027188643, 'subsample': 0.7083403867916558, 'colsample_bytree': 0.8556546908417983, 'gamma': 3.5144404484695366, 'lambda': 3.6454675643215477, 'alpha': 3.4882847894436524}. Best is trial 0 with value: 0.7122790770991445.\n",
      "[I 2025-03-26 18:55:32,180] Trial 10 finished with value: 0.6469275481619636 and parameters: {'n_estimators': 51, 'max_depth': 3, 'learning_rate': 0.268579870047978, 'subsample': 0.8059117291273852, 'colsample_bytree': 0.9953106221026486, 'gamma': 0.14805330623546098, 'lambda': 4.991506524824218, 'alpha': 1.1836685133565266}. Best is trial 0 with value: 0.7122790770991445.\n",
      "[I 2025-03-26 18:55:35,736] Trial 11 finished with value: 0.6692608427755722 and parameters: {'n_estimators': 145, 'max_depth': 7, 'learning_rate': 0.04681993125882904, 'subsample': 0.5117136254030059, 'colsample_bytree': 0.6676848450749252, 'gamma': 2.3227819761095656, 'lambda': 3.8935591496407294, 'alpha': 1.9841255495688466}. Best is trial 0 with value: 0.7122790770991445.\n",
      "[I 2025-03-26 18:55:48,106] Trial 12 finished with value: 0.665468259361587 and parameters: {'n_estimators': 481, 'max_depth': 7, 'learning_rate': 0.011206803678340694, 'subsample': 0.520016852421536, 'colsample_bytree': 0.7085423997211294, 'gamma': 1.076497729448696, 'lambda': 3.9685172705277183, 'alpha': 2.494197874209217}. Best is trial 0 with value: 0.7122790770991445.\n",
      "[I 2025-03-26 18:55:50,479] Trial 13 finished with value: 0.71422065209512 and parameters: {'n_estimators': 338, 'max_depth': 4, 'learning_rate': 0.2820666980334658, 'subsample': 0.767681539188025, 'colsample_bytree': 0.9528118151560168, 'gamma': 2.468124423833511, 'lambda': 2.07116788353338, 'alpha': 2.7438301377984136}. Best is trial 13 with value: 0.71422065209512.\n",
      "[I 2025-03-26 18:55:52,703] Trial 14 finished with value: 0.7026421727081156 and parameters: {'n_estimators': 336, 'max_depth': 4, 'learning_rate': 0.28931638424714107, 'subsample': 0.7843291692806516, 'colsample_bytree': 0.9787768450687984, 'gamma': 2.885857014925804, 'lambda': 1.849810785969491, 'alpha': 3.818457115529931}. Best is trial 13 with value: 0.71422065209512.\n",
      "[I 2025-03-26 18:55:54,396] Trial 15 finished with value: 0.7086590164248406 and parameters: {'n_estimators': 170, 'max_depth': 4, 'learning_rate': 0.1944530729630714, 'subsample': 0.8722691093975881, 'colsample_bytree': 0.6552979318989244, 'gamma': 2.5260477155965066, 'lambda': 2.091777625910927, 'alpha': 2.9874688057702694}. Best is trial 13 with value: 0.71422065209512.\n",
      "[I 2025-03-26 18:55:57,919] Trial 16 finished with value: 0.7079124785622228 and parameters: {'n_estimators': 325, 'max_depth': 4, 'learning_rate': 0.09060464240683014, 'subsample': 0.8745964654263024, 'colsample_bytree': 0.9209922160199189, 'gamma': 0.7390881115288153, 'lambda': 2.706276764245759, 'alpha': 4.911587316800013}. Best is trial 13 with value: 0.71422065209512.\n",
      "[I 2025-03-26 18:56:00,888] Trial 17 finished with value: 0.6980855881587829 and parameters: {'n_estimators': 168, 'max_depth': 10, 'learning_rate': 0.1857120031465541, 'subsample': 0.740746969319037, 'colsample_bytree': 0.9168820493436544, 'gamma': 2.0252426343197305, 'lambda': 0.13049945575701494, 'alpha': 0.60699790507265}. Best is trial 13 with value: 0.71422065209512.\n",
      "[I 2025-03-26 18:56:03,226] Trial 18 finished with value: 0.7064153912088263 and parameters: {'n_estimators': 330, 'max_depth': 3, 'learning_rate': 0.20286113576855258, 'subsample': 0.6300135001584865, 'colsample_bytree': 0.6223702427085076, 'gamma': 2.9288194120792657, 'lambda': 4.389023707989386, 'alpha': 4.050129156537355}. Best is trial 13 with value: 0.71422065209512.\n",
      "[I 2025-03-26 18:56:06,416] Trial 19 finished with value: 0.7038331641201553 and parameters: {'n_estimators': 215, 'max_depth': 5, 'learning_rate': 0.08691822744483202, 'subsample': 0.76676889029582, 'colsample_bytree': 0.7340117466997592, 'gamma': 0.9307263719307186, 'lambda': 3.281409138271237, 'alpha': 3.139159291009609}. Best is trial 13 with value: 0.71422065209512.\n"
     ]
    },
    {
     "name": "stdout",
     "output_type": "stream",
     "text": [
      "Best hyperparameters: {'n_estimators': 338, 'max_depth': 4, 'learning_rate': 0.2820666980334658, 'subsample': 0.767681539188025, 'colsample_bytree': 0.9528118151560168, 'gamma': 2.468124423833511, 'lambda': 2.07116788353338, 'alpha': 2.7438301377984136}\n"
     ]
    }
   ],
   "source": [
    "study = optuna.create_study(direction=\"maximize\")\n",
    "study.optimize(objective, n_trials=20)\n",
    "\n",
    "# Print best parameters\n",
    "print(\"Best hyperparameters:\", study.best_params)"
   ]
  },
  {
   "cell_type": "code",
   "execution_count": 14,
   "id": "3565e9d5-cce2-4ccd-a16d-0e26953c26e5",
   "metadata": {},
   "outputs": [
    {
     "name": "stdout",
     "output_type": "stream",
     "text": [
      "Final Accuracy: 0.7136291736994537\n"
     ]
    }
   ],
   "source": [
    "best_params = study.best_params\n",
    "best_model = xgb.XGBClassifier(**best_params, eval_metric=\"logloss\")\n",
    "best_model.fit(X_train, y_train)\n",
    "\n",
    "y_pred = best_model.predict(X_test)\n",
    "predicted_labels = [0 if cls in group_1 else 1 for cls in y_pred]\n",
    "print(\"Final Accuracy:\", balanced_accuracy_score(true_labels, predicted_labels))"
   ]
  },
  {
   "cell_type": "code",
   "execution_count": 16,
   "id": "bc429953-626c-43af-84f2-1880757ad35b",
   "metadata": {},
   "outputs": [],
   "source": [
    "# with open(\"xgb_model_4_level_gpu.pkl\", \"wb\") as file:\n",
    "#     pickle.dump(best_model, file)"
   ]
  },
  {
   "cell_type": "code",
   "execution_count": null,
   "id": "5d128276-3f9d-442f-8f8d-b3e29789dedd",
   "metadata": {},
   "outputs": [],
   "source": []
  },
  {
   "cell_type": "code",
   "execution_count": null,
   "id": "db7112b9-4cac-4876-971a-5b86aedde4bb",
   "metadata": {},
   "outputs": [],
   "source": []
  }
 ],
 "metadata": {
  "kernelspec": {
   "display_name": "Python 3 (ipykernel)",
   "language": "python",
   "name": "python3"
  },
  "language_info": {
   "codemirror_mode": {
    "name": "ipython",
    "version": 3
   },
   "file_extension": ".py",
   "mimetype": "text/x-python",
   "name": "python",
   "nbconvert_exporter": "python",
   "pygments_lexer": "ipython3",
   "version": "3.9.21"
  }
 },
 "nbformat": 4,
 "nbformat_minor": 5
}
